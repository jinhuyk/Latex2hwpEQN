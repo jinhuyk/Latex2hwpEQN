{
 "cells": [
  {
   "metadata": {},
   "cell_type": "code",
   "source": "import re",
   "id": "2996bc265a81823a",
   "outputs": [],
   "execution_count": null
  },
  {
   "metadata": {},
   "cell_type": "code",
   "source": [
    "def conv_frac(text):\n",
    "    pattern = r'\\\\frac\\{(.*?)\\}\\{(.*?)\\}'\n",
    "    replaced = re.sub(pattern, r'{\\1}over{\\2}', text)\n",
    "    return replaced"
   ],
   "id": "df56f78e0e0d6aca",
   "outputs": [],
   "execution_count": null
  },
  {
   "metadata": {},
   "cell_type": "code",
   "source": [
    "def conv_rm(text):\n",
    "    pattern = r'\\\\mathrm\\{(.*?)\\}'\n",
    "    replaced = re.sub(pattern, r'rm{\\1}it', text)\n",
    "    return replaced"
   ],
   "id": "6904528c7a6cbc",
   "outputs": [],
   "execution_count": null
  },
  {
   "metadata": {},
   "cell_type": "code",
   "source": [
    "def conv_upper_sub(text):\n",
    "    text = re.sub(r'_(.)([^{}\\s])', r'_\\1 \\2', text)\n",
    "    text = re.sub(r'\\^(.)([^{}\\s])', r'^\\1 \\2', text)\n",
    "    return text"
   ],
   "id": "3b0d0add5195c162",
   "outputs": [],
   "execution_count": null
  },
  {
   "metadata": {},
   "cell_type": "code",
   "source": [
    "def conv_cases(text):\n",
    "    return re.sub(\n",
    "        r'\\\\begin\\{cases\\}(.*?)\\\\end\\{cases\\}',\n",
    "        r'cases{\\1}',\n",
    "        text,\n",
    "        flags=re.DOTALL\n",
    "    )"
   ],
   "id": "2ec20c96cd1eb45f",
   "outputs": [],
   "execution_count": null
  },
  {
   "metadata": {},
   "cell_type": "code",
   "source": [
    "def conv_root(text):\n",
    "    return re.sub(r'\\\\sqrt\\[(.*?)\\]\\{(.*?)\\}', r'root{\\1}of{\\2}', text)\n"
   ],
   "id": "abd1f85b9015ac7d",
   "outputs": [],
   "execution_count": null
  },
  {
   "metadata": {},
   "cell_type": "code",
   "source": [
    "def conv_oper(text):\n",
    "    rst = text\n",
    "    rst = rst.replace(\"+\",\" +\")\n",
    "    rst = rst.replace(\"-\",\" -\")\n",
    "    rst = rst.replace(\"=\",\" =\")\n",
    "    rst = rst.replace(\"to\",\" -> \")\n",
    "    return rst"
   ],
   "id": "3395cefaa9012900",
   "outputs": [],
   "execution_count": null
  },
  {
   "metadata": {},
   "cell_type": "code",
   "source": [
    "def conv_supr(text):\n",
    "    text = text.replace(\"\\\\overline{\", \"bar{\")\n",
    "    text = text.replace(\"\\\\overrightarrow{\", \"vec{\")\n",
    "    return text"
   ],
   "id": "eb783b44fe2da4d4",
   "outputs": [],
   "execution_count": null
  },
  {
   "metadata": {},
   "cell_type": "code",
   "source": [
    "def conv_space(text):\n",
    "    text = text.replace(\"\\\\,\",\"`\")\n",
    "    text = text.replace(\"\\\\quad\",\"~\")\n",
    "    text = text.replace(\"\\\\\\\\\",\"#\")\n",
    "    return text"
   ],
   "id": "94934262c6e7469c",
   "outputs": [],
   "execution_count": null
  },
  {
   "metadata": {},
   "cell_type": "code",
   "source": [
    "def conv_tex2hwp_eq(text):\n",
    "    rst = text\n",
    "    rst = rst.replace('$','\\n')\n",
    "    rst = conv_cases(rst)\n",
    "    rst = conv_oper(rst)\n",
    "    rst = conv_supr(rst)\n",
    "    for i in range(10):\n",
    "        rst = conv_frac(rst)\n",
    "    rst = conv_rm(rst)\n",
    "    rst = conv_root(rst)\n",
    "    rst = conv_upper_sub(rst)\n",
    "    rst = conv_space(rst)\n",
    "    rst = rst.replace(\"\\\\\",\" \")\n",
    "    return rst\n",
    "\n",
    "\n",
    "\n"
   ],
   "id": "532c78394e039239",
   "outputs": [],
   "execution_count": null
  },
  {
   "metadata": {},
   "cell_type": "code",
   "source": "org= r\"temp.txt\"",
   "id": "fbc121e30a2defb3",
   "outputs": [],
   "execution_count": null
  },
  {
   "metadata": {},
   "cell_type": "markdown",
   "source": [
    "# Latex to HwpEQN\n",
    "---\n",
    "Mathpix, chatGPT등을 이용하여 얻은 latex수식을 아래아한글(hancom)에서 사용할수 있게, 수식을 변형해주는 툴입니다.\n",
    "\n",
    "사용방법은 다음과 같습니다.\n",
    "\n",
    "1. temp.txt에 사용할 latex 파일의 일부를 복사 붙여넣기한다.\n",
    "2. 바로 밑의 코드를 실행시킨다.\n",
    "3. 코드의 결과물로 해당 latex의 수식부분만 hwpEQN에 맞게 convert가 된다.\n",
    "4. 한글에 작성하면서 수식부분을 밑에서 복사해서 붙여넣기 하면서 사용한다.\n",
    "\n",
    "---\n",
    "### 구현된 기능\n",
    "---\n",
    "- 분수 (fraction)\n",
    "- 루트 (sqrt)\n",
    "- case문 (약간의 수정이 필요할 수 있음)\n",
    "- bar, vec기호\n",
    "- 정자체\n",
    "- "
   ],
   "id": "dec9b87c8f34c3f7"
  },
  {
   "metadata": {},
   "cell_type": "code",
   "source": [
    "with open(org) as file:\n",
    "    for txt in file:\n",
    "        print(conv_tex2hwp_eq(txt))"
   ],
   "id": "6ed6500f5024158c",
   "outputs": [],
   "execution_count": null
  },
  {
   "metadata": {},
   "cell_type": "code",
   "outputs": [],
   "execution_count": null,
   "source": "",
   "id": "bc65d67cc3dfac60"
  }
 ],
 "metadata": {
  "kernelspec": {
   "display_name": "Python 3",
   "language": "python",
   "name": "python3"
  },
  "language_info": {
   "codemirror_mode": {
    "name": "ipython",
    "version": 2
   },
   "file_extension": ".py",
   "mimetype": "text/x-python",
   "name": "python",
   "nbconvert_exporter": "python",
   "pygments_lexer": "ipython2",
   "version": "2.7.6"
  }
 },
 "nbformat": 4,
 "nbformat_minor": 5
}

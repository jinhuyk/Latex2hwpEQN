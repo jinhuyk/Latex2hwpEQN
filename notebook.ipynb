{
 "cells": [
  {
   "metadata": {
    "ExecuteTime": {
     "end_time": "2025-05-13T13:16:53.031866Z",
     "start_time": "2025-05-13T13:16:53.028248Z"
    }
   },
   "cell_type": "code",
   "source": "import re",
   "id": "2996bc265a81823a",
   "outputs": [],
   "execution_count": 56
  },
  {
   "metadata": {
    "ExecuteTime": {
     "end_time": "2025-05-13T13:16:53.342849Z",
     "start_time": "2025-05-13T13:16:53.338320Z"
    }
   },
   "cell_type": "code",
   "source": [
    "def conv_ovr(text):\n",
    "    pattern = r'\\\\frac\\{(.*?)\\}\\{(.*?)\\}'\n",
    "    replaced = re.sub(pattern, r'{\\1}over{\\2}', text)\n",
    "    return replaced"
   ],
   "id": "df56f78e0e0d6aca",
   "outputs": [],
   "execution_count": 57
  },
  {
   "metadata": {
    "ExecuteTime": {
     "end_time": "2025-05-13T13:16:53.645160Z",
     "start_time": "2025-05-13T13:16:53.640204Z"
    }
   },
   "cell_type": "code",
   "source": [
    "def conv_rm(text):\n",
    "    # \\mathrm{...} 를 rm{...}it 로 변환\n",
    "    pattern = r'\\\\mathrm\\{(.*?)\\}'\n",
    "    replaced = re.sub(pattern, r'rm{\\1}it', text)\n",
    "    return replaced"
   ],
   "id": "6904528c7a6cbc",
   "outputs": [],
   "execution_count": 58
  },
  {
   "metadata": {
    "ExecuteTime": {
     "end_time": "2025-05-13T13:49:52.761644Z",
     "start_time": "2025-05-13T13:49:52.757370Z"
    }
   },
   "cell_type": "code",
   "source": [
    "def conv_nocaret(text):\n",
    "    text = re.sub(r'_(.)([^{}\\s])', r'_\\1 \\2', text)\n",
    "    # 위첨자: ^ 다음 두 글자 이상 중괄호 없는 경우 → 첫 글자 뒤에 띄어쓰기\n",
    "    text = re.sub(r'\\^(.)([^{}\\s])', r'^\\1 \\2', text)\n",
    "    return text"
   ],
   "id": "3b0d0add5195c162",
   "outputs": [],
   "execution_count": 105
  },
  {
   "metadata": {
    "ExecuteTime": {
     "end_time": "2025-05-13T13:55:59.628879Z",
     "start_time": "2025-05-13T13:55:59.623657Z"
    }
   },
   "cell_type": "code",
   "source": [
    "def conv_cases(text):\n",
    "    # \\begin{cases} ... \\end{cases} → cases{...}\n",
    "    # DOTALL 플래그 사용해서 줄바꿈도 포함\n",
    "    return re.sub(\n",
    "        r'\\\\begin\\{cases\\}(.*?)\\\\end\\{cases\\}',\n",
    "        r'cases{\\1}',\n",
    "        text,\n",
    "        flags=re.DOTALL\n",
    "    )"
   ],
   "id": "2ec20c96cd1eb45f",
   "outputs": [],
   "execution_count": 118
  },
  {
   "metadata": {
    "ExecuteTime": {
     "end_time": "2025-05-13T13:55:59.907561Z",
     "start_time": "2025-05-13T13:55:59.904845Z"
    }
   },
   "cell_type": "code",
   "source": "org= r\"/Users/jinhuyk/PyCharmMiscProject/temp.txt\"",
   "id": "fbc121e30a2defb3",
   "outputs": [],
   "execution_count": 119
  },
  {
   "metadata": {
    "ExecuteTime": {
     "end_time": "2025-05-13T14:00:42.027362Z",
     "start_time": "2025-05-13T14:00:42.019526Z"
    }
   },
   "cell_type": "code",
   "source": [
    "with open(org) as file:\n",
    "    for txt in file:\n",
    "        cng = txt\n",
    "        cng = cng.replace(\"\\\\overline{\", \"bar{\")\n",
    "        cng = cng.replace(\"\\\\overrightarrow{\", \"vec{\")\n",
    "        cng = conv_cases(cng)\n",
    "        cng = cng.replace(\"+\",\" +\")\n",
    "        cng = cng.replace(\"-\",\" -\")\n",
    "        cng = cng.replace(\"=\",\" =\")\n",
    "        cng = cng.replace(\"to\",\"-> \")\n",
    "        cng = cng.replace(\"\\\\,\",\"`\")\n",
    "        cng = conv_rm(cng)\n",
    "        cng = conv_nocaret(cng)\n",
    "        cng = cng.replace(\"\\\\\\\\\",\"#\")\n",
    "        cng = cng.replace(\"\\\\\",\" \")\n",
    "        print(cng)"
   ],
   "id": "6ed6500f5024158c",
   "outputs": [
    {
     "name": "stdout",
     "output_type": "stream",
     "text": [
      "g(x) = cases{x f^{  prime}(x) +f(x) & (x  geq 0) # (1 -x) e^{ -x} + cos x & (x<0)}\n"
     ]
    }
   ],
   "execution_count": 123
  },
  {
   "metadata": {},
   "cell_type": "code",
   "outputs": [],
   "execution_count": null,
   "source": "",
   "id": "a1735b649e7617ac"
  },
  {
   "metadata": {},
   "cell_type": "code",
   "outputs": [],
   "execution_count": null,
   "source": "",
   "id": "7d199c6636bbd52a"
  }
 ],
 "metadata": {
  "kernelspec": {
   "display_name": "Python 3",
   "language": "python",
   "name": "python3"
  },
  "language_info": {
   "codemirror_mode": {
    "name": "ipython",
    "version": 2
   },
   "file_extension": ".py",
   "mimetype": "text/x-python",
   "name": "python",
   "nbconvert_exporter": "python",
   "pygments_lexer": "ipython2",
   "version": "2.7.6"
  }
 },
 "nbformat": 4,
 "nbformat_minor": 5
}
